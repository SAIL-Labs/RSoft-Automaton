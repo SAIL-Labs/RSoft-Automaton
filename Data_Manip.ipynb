{
 "cells": [
  {
   "cell_type": "code",
   "execution_count": null,
   "metadata": {},
   "outputs": [],
   "source": [
    "from RSoftSimulation import RSoftSim\n",
    "from Circuit_Properties import *\n",
    "from Functions import *\n",
    "from HexProperties import *\n",
    "\n",
    "simulation_val = {\n",
    "    \"launch_type\": LaunchType.MM,\n",
    "    \"monitor_type\": Monitor_Prop.FIBRE_MODE_POWER,\n",
    "    \"comp\": Monitor_comp.MAJOR,\n",
    "    \"launch_tilt\": 0,\n",
    "    \"launch_mode\": '*',\n",
    "    \"launch_mode_radial\": '*',\n",
    "    \"launch_random_set\": 1,\n",
    "    \"num_paras\": 144,\n",
    "    \"batch_num\": 6,\n",
    "}\n",
    "\n",
    "with open(\"launch_config.json\", \"w\") as launch_config:\n",
    "    json.dump(simulation_val, launch_config, indent = 2)\n",
    "\n",
    "# setup custom priors\n",
    "custom_priors = {\n",
    "            # \"Taper_L\": (1000.0, 60000.0),\n",
    "            \"taper\": (5.0, 30) \n",
    "            }\n",
    "\n",
    "sim = RSoftSim()\n",
    "sim.init_priors(custom_priors)\n",
    "sim.RunRSoft(True)\n"
   ]
  },
  {
   "cell_type": "code",
   "execution_count": 2,
   "metadata": {},
   "outputs": [
    {
     "name": "stdout",
     "output_type": "stream",
     "text": [
      "Best fitting values:\n",
      "Taper_L: 60000.0\n",
      "taper: 8.443874348918603\n",
      "Throughput: 0.975194274\n"
     ]
    }
   ],
   "source": [
    "import pandas as pd\n",
    "# Read the multiprocessing csv log into a DataFrame\n",
    "df = pd.read_csv(\"best_params_log.csv\", header=None)\n",
    "\n",
    "param_columns = [prior_name for prior_name, (_,_) in custom_priors.items()] + [\"Throughput\"]\n",
    "\n",
    "print(\"Best fitting values:\")\n",
    "for col in df.columns[1:]:\n",
    "    print(f\"{param_columns[col-1]}: {df[col].iloc[-1]}\")"
   ]
  }
 ],
 "metadata": {
  "kernelspec": {
   "display_name": "myrsoft",
   "language": "python",
   "name": "python3"
  },
  "language_info": {
   "codemirror_mode": {
    "name": "ipython",
    "version": 3
   },
   "file_extension": ".py",
   "mimetype": "text/x-python",
   "name": "python",
   "nbconvert_exporter": "python",
   "pygments_lexer": "ipython3",
   "version": "3.11.11"
  }
 },
 "nbformat": 4,
 "nbformat_minor": 2
}
